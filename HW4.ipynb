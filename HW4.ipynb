{
 "cells": [
  {
   "cell_type": "markdown",
   "metadata": {},
   "source": [
    "# Домашнее задание №4 Неоцениваемое"
   ]
  },
  {
   "cell_type": "markdown",
   "metadata": {},
   "source": [
    "## Задача 1"
   ]
  },
  {
   "cell_type": "markdown",
   "metadata": {},
   "source": [
    "Возьмите достаточно длинную строку, хотя бы 20 символов.\n",
    "Используя срезы( конструкции с квадратными скобочками и двоеточиями при необходимости, которые были пройдены на 4 семинаре ([i],[a:b], [a:b:step]; работают со строками также, как со списком)) сначала выведите третий символ этой строки.\n",
    "\n",
    "Во второй строке выведите предпоследний символ этой строки.\n",
    "\n",
    "В третьей строке выведите первые пять символов этой строки.\n",
    "\n",
    "В четвертой строке выведите всю строку, кроме последних двух символов.\n",
    "\n",
    "В пятой строке выведите все символы с четными индексами (считая, что индексация начинается с 0, поэтому символы выводятся начиная с первого).\n",
    "\n",
    "В шестой строке выведите все символы с нечетными индексами, то есть начиная со второго символа строки.\n",
    "\n",
    "В седьмой строке выведите все символы в обратном порядке.\n",
    "\n",
    "В восьмой строке выведите все символы строки через один в обратном порядке, начиная с последнего.\n",
    "\n",
    "В девятой строке выведите длину данной строки."
   ]
  },
  {
   "cell_type": "code",
   "execution_count": 14,
   "metadata": {},
   "outputs": [
    {
     "name": "stdout",
     "output_type": "stream",
     "text": [
      "n\n",
      "i\n",
      "londo\n",
      "london is the capital of great brita\n",
      "lno stecptlo ra rti\n",
      "odni h aia fgetbian\n",
      "niatirb taerg fo latipac eht si nodnol\n",
      "naibtegf aia h indo\n",
      "38\n"
     ]
    }
   ],
   "source": [
    "a = 'london is the capital of great britain'\n",
    "\n",
    "print (a[2])\n",
    "\n",
    "print(a[-2])\n",
    "\n",
    "print (a[:5])\n",
    "\n",
    "print (a[:-2])\n",
    "\n",
    "print(a[::2])\n",
    "\n",
    "print(a[1::2])\n",
    "\n",
    "print(a[len(a)::-1])\n",
    "\n",
    "print(a[len(a)::-2])\n",
    "\n",
    "print(len(a))"
   ]
  },
  {
   "cell_type": "markdown",
   "metadata": {},
   "source": [
    "## Задача 2"
   ]
  },
  {
   "cell_type": "markdown",
   "metadata": {},
   "source": [
    "Легенда: Вася хочет проверить, верно ли, что данная текстовая строка читается слева направо и справа налево одинаково. Помогите Васе написать такую программу. Возьмите два слова из строчных букв. Для первого слова, которое должно читаться одинаково, выведите YES, а для второго слова, которое должно читаться неодинаково, -- NO."
   ]
  },
  {
   "cell_type": "code",
   "execution_count": 4,
   "metadata": {},
   "outputs": [
    {
     "name": "stdout",
     "output_type": "stream",
     "text": [
      "NO\n"
     ]
    }
   ],
   "source": [
    "str1 = 'london'\n",
    "\n",
    "if str1 == str1[len(a)::-1]:\n",
    "\tprint('YES')\n",
    "else:\n",
    "\tprint('NO')\n"
   ]
  },
  {
   "cell_type": "code",
   "execution_count": 10,
   "metadata": {},
   "outputs": [
    {
     "name": "stdout",
     "output_type": "stream",
     "text": [
      "YES\n"
     ]
    }
   ],
   "source": [
    "str2 = 'madam'\n",
    "\n",
    "if str2 == str2[len(a)::-1]:\n",
    "\tprint('YES')\n",
    "else:\n",
    "\tprint('NO')"
   ]
  },
  {
   "cell_type": "markdown",
   "metadata": {},
   "source": [
    "## Задача 3"
   ]
  },
  {
   "cell_type": "markdown",
   "metadata": {},
   "source": [
    "Сформируйте такой лист под названием my_list, чтобы после того, как вы вызвали команду `print(my_list)' вывелось:"
   ]
  },
  {
   "cell_type": "code",
   "execution_count": null,
   "metadata": {},
   "outputs": [],
   "source": [
    "['one', 'two', 'three']"
   ]
  },
  {
   "cell_type": "markdown",
   "metadata": {},
   "source": [
    "Затем добавьте еще один элемент под названием elem с помощью метода append, и напечатайте количество элементов в измененном списке, используя специальную функцию."
   ]
  },
  {
   "cell_type": "code",
   "execution_count": 13,
   "metadata": {},
   "outputs": [
    {
     "name": "stdout",
     "output_type": "stream",
     "text": [
      "['one', 'two', 'three']\n",
      "Vvedite element: four\n",
      "4\n"
     ]
    }
   ],
   "source": [
    "my_list = ['one','two','three']\n",
    "print(my_list)\n",
    "elem = input('Vvedite element: ')\n",
    "my_list.append(elem)\n",
    "print(len(my_list))"
   ]
  }
 ],
 "metadata": {
  "kernelspec": {
   "display_name": "Python 3",
   "language": "python",
   "name": "python3"
  },
  "language_info": {
   "codemirror_mode": {
    "name": "ipython",
    "version": 3
   },
   "file_extension": ".py",
   "mimetype": "text/x-python",
   "name": "python",
   "nbconvert_exporter": "python",
   "pygments_lexer": "ipython3",
   "version": "3.6.3"
  }
 },
 "nbformat": 4,
 "nbformat_minor": 2
}
