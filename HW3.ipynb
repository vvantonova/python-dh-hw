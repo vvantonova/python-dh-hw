
{
 "cells": [
  {
   "cell_type": "markdown",
   "metadata": {},
   "source": [
    "# ДЗ3, неоцениваемое"
   ]
  },
  {
   "cell_type": "markdown",
   "metadata": {},
   "source": [
    "## Задание 1"
   ]
  },
  {
   "cell_type": "markdown",
   "metadata": {},
   "source": [
    "Напишите программу, которая по данному числу n от 1 до 9 выводит на экран n пингвинов. Изображение одного пингвина имеет размер 5 × 9 символов, между двумя соседними пингвинами также имеется пустой (из пробелов) столбец. Разрешается вывести пустой столбец после последнего пингвина. Для упрощения рисования скопируйте пингвина из примера."
   ]
  },
  {
   "cell_type": "code",
   "execution_count": 1,
   "metadata": {},
   "outputs": [
    {
     "name": "stdout",
     "output_type": "stream",
     "text": [
      "   _~_       _~_       _~_       _~_       _~_       _~_       _~_    \n",
      "  (o o)     (o o)     (o o)     (o o)     (o o)     (o o)     (o o)   \n",
      " /  V  \\   /  V  \\   /  V  \\   /  V  \\   /  V  \\   /  V  \\   /  V  \\  \n",
      "/(  _  )\\ /(  _  )\\ /(  _  )\\ /(  _  )\\ /(  _  )\\ /(  _  )\\ /(  _  )\\ \n",
      "  ^^ ^^     ^^ ^^     ^^ ^^     ^^ ^^     ^^ ^^     ^^ ^^     ^^ ^^   \n"
     ]
    }
   ],
   "source": [
    "penguin1 = '   _~_    '\n",
    "penguin2 = '  (o o)   '\n",
    "penguin3 = ' /  V  \\  '\n",
    "penguin4 = '/(  _  )\\ '\n",
    "penguin5 = '  ^^ ^^   '\n",
    "\n",
    "i = 7\n",
    "print (penguin1 * i)\n",
    "print (penguin2 * i)\n",
    "print (penguin3 * i)\n",
    "print (penguin4 * i)\n",
    "print (penguin5 * i)"
   ]
  },
  {
   "cell_type": "markdown",
   "metadata": {},
   "source": [
    "## Задание 2"
   ]
  },
  {
   "cell_type": "markdown",
   "metadata": {},
   "source": [
    "Возьмите строку, состоящую из нескольких слов, разделенных пробелами. Программа должна напечатать количество слов. Можете решить задачу, своими глазами посчитав, или использовать для решения задачи метод count. Пример: взята строка \"Hello world\", ответ: Количество слов: 2"
   ]
  },
  {
   "cell_type": "code",
   "execution_count": 4,
   "metadata": {},
   "outputs": [
    {
     "name": "stdout",
     "output_type": "stream",
     "text": [
      "4\n"
     ]
    }
   ],
   "source": [
    "a = 'odin dva try chetyre'\n",
    "print(len(a.split(' ')))"
   ]
  },
  {
   "cell_type": "markdown",
   "metadata": {},
   "source": [
    "## Задание 3"
   ]
  },
  {
   "cell_type": "markdown",
   "metadata": {},
   "source": [
    "Выполните подсчет количества принадлежностей для определенного количества учащихся."
   ]
  },
  {
   "cell_type": "code",
   "execution_count": 6,
   "metadata": {},
   "outputs": [
    {
     "name": "stdout",
     "output_type": "stream",
     "text": [
      "Vsego prinadlejnostey: 264\n"
     ]
    }
   ],
   "source": [
    "pens = 3\n",
    "notebooks = 5\n",
    "laptop = 1\n",
    "pencil = 1\n",
    "apple = 1\n",
    "waterBottle = 1\n",
    "\n",
    "numberOfPeople = 22\n",
    "\n",
    "print ('Vsego prinadlejnostey:', (pens+notebooks+laptop+pencil+apple+waterBottle)*numberOfPeople)"
   ]
  }
 ],
 "metadata": {
  "kernelspec": {
   "display_name": "Python 3",
   "language": "python",
   "name": "python3"
  },
  "language_info": {
   "codemirror_mode": {
    "name": "ipython",
    "version": 3
   },
   "file_extension": ".py",
   "mimetype": "text/x-python",
   "name": "python",
   "nbconvert_exporter": "python",
   "pygments_lexer": "ipython3",
   "version": "3.6.4"
  }
 },
 "nbformat": 4,
 "nbformat_minor": 2
}
