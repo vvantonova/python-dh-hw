{
 "cells": [
  {
   "cell_type": "markdown",
   "metadata": {},
   "source": [
    "## Домашнее задание №5 Неоцениваемое"
   ]
  },
  {
   "cell_type": "markdown",
   "metadata": {},
   "source": [
    "# Задача 1\n",
    "Напишите функцию, которая принимает на вход имя (строку) и словарь. В словаре должны храниться имена (ключи) и номера телефонов (значения). Имена не должны повторяться, а в номерах телефонов должны быть только цифры!\n",
    "Функция должна проверять, есть ли имя в словаре, и если есть, то возвращать номер телефона этого человека.\n",
    "\n",
    "Если имени нет в словаре, программа должна написать, что такого имени нет в телефонной книге, предложить ввести номер телефона через input(), добавить новую запись в словарь и вернуть словарь."
   ]
  },
  {
   "cell_type": "code",
   "execution_count": 1,
   "metadata": {},
   "outputs": [
    {
     "name": "stdout",
     "output_type": "stream",
     "text": [
      "Vvedite imya: Petya\n",
      "Imeni net v slovare. Dobavit?  Y/NY\n",
      "Vvedite noviy nomer: 88005553535\n",
      "{'Bonnie': 89007771111, 'Clyde': 89007772222, 'Huey': 89003330000, 'Dewey': 89003331111, 'Louie': 89003332222, 'Petya': 88005553535}\n"
     ]
    }
   ],
   "source": [
    "def func(name,dict):\n",
    "\tif name in dict:\n",
    "\t\tprint (dict[name])\n",
    "\telse:\n",
    "\t\tcheck = input(\"Imeni net v slovare. Dobavit?  Y/N\")\n",
    "\t\tif check == 'Y':\n",
    "\t\t\tnewNumber = int(input('Vvedite noviy nomer: '))\n",
    "\t\t\tdict[name] = newNumber\n",
    "\t\t\tprint (dict)\n",
    "\n",
    "\n",
    "dictator = {\"Bonnie\": 89007771111, \"Clyde\": 89007772222, \"Huey\": 89003330000, \"Dewey\": 89003331111, \"Louie\": 89003332222}\n",
    "name = input(\"Vvedite imya: \")\n",
    "\n",
    "func(name, dictator)"
   ]
  },
  {
   "cell_type": "markdown",
   "metadata": {},
   "source": [
    "# Задача 2\n",
    "Используя словарь {\"Bonnie\": 89007771111, \"Clyde\": 89007772222}.\n",
    "Добавьте элементы как минимум двумя способами, чтобы с точностью до порядка(то есть не обращаем внимание на порядок элементов) получился словарь {\"Bonnie\": 89007771111, \"Clyde\": 89007772222, \"Huey\": 89003330000, \"Dewey\": 89003331111, \"Louie\": 89003332222}"
   ]
  },
  {
   "cell_type": "code",
   "execution_count": 2,
   "metadata": {},
   "outputs": [
    {
     "name": "stdout",
     "output_type": "stream",
     "text": [
      "{'Dewey': 89003331111, 'Louie': 89003332222, 'Bonnie': 89007771111, 'Clyde': 89007772222, 'Huey': 89003330000}\n"
     ]
    }
   ],
   "source": [
    "y = {\"Bonnie\": 89007771111, \"Clyde\": 89007772222}\n",
    "\n",
    "y['Huey'] = 89003330000\n",
    "x = {\"Dewey\": 89003331111, 'Louie': 89003332222} \n",
    "\n",
    "z = {**x,**y}\n",
    "\n",
    "print(z)"
   ]
  },
  {
   "cell_type": "markdown",
   "metadata": {},
   "source": [
    "# Задача 3\n",
    "Дана неубывающая последовательность, в которой каждое натуральное число k встречается ровно k раз: 1, 2, 2, 3, 3, 3, 4, 4, 4, 4, ...\n",
    "По данному натуральному n выведите первые n членов этой последовательности.\n",
    "\n",
    "Если n == 5: ответом будет:\n",
    "\n",
    "1 2 2 3 3\n",
    "\n",
    "Примечание: Обязательно используйте n = int(input()), это позволяет задать числовое значение вручную при запуске ячейки.\n",
    "\n",
    "Примечание: Попробуйте обойтись только одним циклом."
   ]
  },
  {
   "cell_type": "code",
   "execution_count": 7,
   "metadata": {},
   "outputs": [
    {
     "name": "stdout",
     "output_type": "stream",
     "text": [
      "7\n",
      "1223334\n"
     ]
    }
   ],
   "source": [
    "n = int(input())\n",
    "count = 1\n",
    "i = 0\n",
    "streng = ''\n",
    "while i<n:\n",
    "\tstreng = streng+str(count)*count\n",
    "\tcount=count+1\n",
    "\ti = i+1\n",
    "print (streng[:n],sep = ' ')"
   ]
  }
 ],
 "metadata": {
  "kernelspec": {
   "display_name": "Python 3",
   "language": "python",
   "name": "python3"
  },
  "language_info": {
   "codemirror_mode": {
    "name": "ipython",
    "version": 3
   },
   "file_extension": ".py",
   "mimetype": "text/x-python",
   "name": "python",
   "nbconvert_exporter": "python",
   "pygments_lexer": "ipython3",
   "version": "3.6.3"
  }
 },
 "nbformat": 4,
 "nbformat_minor": 2
}
